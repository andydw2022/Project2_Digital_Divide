{
 "cells": [
  {
   "cell_type": "code",
   "execution_count": null,
   "metadata": {},
   "outputs": [],
   "source": [
    "from splinter import Browser\n",
    "from bs4 import BeautifulSoup as bs\n",
    "import time\n",
    "from webdriver_manager.chrome import ChromeDriverManager\n",
    "import requests\n",
    "import pymongo\n",
    "import pandas as pd\n"
   ]
  },
  {
   "cell_type": "code",
   "execution_count": null,
   "metadata": {},
   "outputs": [],
   "source": [
    "# Initialize PyMongo to work with MongoDBs\n",
    "conn = 'mongodb://localhost:27017'\n",
    "client = pymongo.MongoClient(conn)"
   ]
  },
  {
   "cell_type": "code",
   "execution_count": null,
   "metadata": {},
   "outputs": [],
   "source": [
    "# Define database and collection\n",
    "db = client.internetspeeds\n",
    "collection = db.countryspeed"
   ]
  },
  {
   "cell_type": "code",
   "execution_count": null,
   "metadata": {},
   "outputs": [],
   "source": [
    "# Scrape page into Soup\n",
    "# Visit Fastmetrics webpage to get web site title and table data\n",
    "url = \"https://www.fastmetrics.com/internet-connection-speed-by-country.php#median-internet-speeds-2020\"\n",
    "time.sleep(1)\n",
    "\n",
    "# Retrieve page with the requests module\n",
    "response = requests.get(url)\n",
    "# Create BeautifulSoup object; parse with 'lxml'\n",
    "soup = bs(response.text, 'lxml')\n",
    "soup\n",
    "# Examine the results, then determine element that contains sought info\n",
    "# results are returned as an iterable list\n",
    "webpage_title = soup.find_all(\"title\")[0].text\n",
    "print (webpage_title)"
   ]
  },
  {
   "cell_type": "code",
   "execution_count": null,
   "metadata": {},
   "outputs": [],
   "source": [
    "type(webpage_title)\n",
    "cols = list(df.columns)\n",
    "df.columns = cols\n",
    "df.reset_index(drop=True, inplace=True)\n",
    "df.head()"
   ]
  },
  {
   "cell_type": "code",
   "execution_count": null,
   "metadata": {},
   "outputs": [],
   "source": [
    "# Scrape page into Soup\n",
    "tables = pd.read_html(url)\n",
    "df = tables[0]\n",
    "df.head()\n",
    "df.set_index(\"Rank\")\n",
    "df.reset_index(drop=True, inplace=True)\n",
    "df.to_csv('countryinternetspeedstable.csv')\n",
    "countryinternetspeedstable = df.to_html(classes='table table-striped', index=False)  \n",
    "df.to_html('countryinternetspeedstable.html')\n",
    "countryinternetspeedstable.replace('\\n', '')\n",
    "df.to_html()\n",
    "speed_data = {\n",
    "    \"Title\": webpage_title,\n",
    "    \"speed_table\": countryinternetspeedstable\n",
    "    }\n",
    "# Quit the browser\n",
    "#browser.quit()"
   ]
  },
  {
   "cell_type": "code",
   "execution_count": null,
   "metadata": {},
   "outputs": [],
   "source": [
    "speed_data = {\n",
    "     \"Title\": results,\n",
    "     \"speed_table\": countryinternetspeedstable\n",
    "    }\n",
    "# Quit the browser\n",
    "#browser.quit()\n",
    "    \n",
    "# Check the data to be inserted into MongoDB\n",
    "\n",
    "collection.insert_one(speed_data)\n",
    "#speed_data"
   ]
  },
  {
   "cell_type": "code",
   "execution_count": null,
   "metadata": {},
   "outputs": [],
   "source": [
    "# Display items in MongoDB collection\n",
    "speedbycountrylist = db.countryspeed.find()\n",
    "\n",
    "for listing in speedbycountrylist:\n",
    "    print(listing)"
   ]
  }
 ],
 "metadata": {
  "kernelspec": {
   "display_name": "Python 3.9.7 ('base')",
   "language": "python",
   "name": "python3"
  },
  "language_info": {
   "codemirror_mode": {
    "name": "ipython",
    "version": 3
   },
   "file_extension": ".py",
   "mimetype": "text/x-python",
   "name": "python",
   "nbconvert_exporter": "python",
   "pygments_lexer": "ipython3",
   "version": "3.9.7"
  },
  "orig_nbformat": 4,
  "vscode": {
   "interpreter": {
    "hash": "f45ea705cbb38a0a3238cd19cae0fcbb25c93be8838aaeaefa64c160f57b17ff"
   }
  }
 },
 "nbformat": 4,
 "nbformat_minor": 2
}
